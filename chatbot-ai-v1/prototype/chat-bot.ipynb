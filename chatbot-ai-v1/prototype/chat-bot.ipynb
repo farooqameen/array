{
 "cells": [
  {
   "cell_type": "markdown",
   "id": "d2cbbd16-34d7-458a-b774-95ca650427ff",
   "metadata": {},
   "source": [
    "# Chatbot Project Documentation\n",
    "\n",
    "## Introduction\n",
    "The goal of this Jupyter Notebook is to enable new team members to easily prototype a new chain using LangChain. This chain aims to improve the performance of an existing chatbot or test its current performance. The notebook will serve as both documentation and a prototyping tool, ensuring a comprehensive understanding of the codebase and facilitating smooth onboarding for new developers.\n",
    "This chatbot is designed to interact with the Central Bank of Bahrain (CBB) rulebook, providing users with accurate and relevant information based on their queries. By leveraging LangChain, we can seamlessly integrate multiple components to create a robust chatbot solution.\n"
   ]
  },
  {
   "cell_type": "markdown",
   "id": "08f1974c-2c0a-49af-a8e9-ee985399a52f",
   "metadata": {},
   "source": [
    "# Table of Contents\n",
    "\n",
    "1. [Project Setup](#Project-Setup)\n",
    "    - [Install dependencies](#Install-dependencies)\n",
    "2. [Initializing a configuration file](#Initializing-a-configuration-file)\n",
    "3. [Understanding the Codebase](#Understanding-the-Codebase)\n",
    "4. [Load environment configuration](#Load-environment-configuration) \n",
    "5. [Running Streamlit App](#Running-Streamlit-App)\n",
    "6. [Chain Generation and Execution](#Chain-Generation-and-Execution)\n",
    "7. [Prototyping and Testing](#Prototyping-and-Testing)\n",
    "8. [Simple Test Evaluation](#Simple-Test-Evaluation)\n"
   ]
  },
  {
   "cell_type": "markdown",
   "id": "2be81194-230b-4ff9-82ae-62a66a73fe1c",
   "metadata": {},
   "source": [
    "# Project Setup\n",
    "\n",
    "## Prerequisites\n",
    "\n",
    "1. Python Installation\n",
    "2. Jupyter Installation\n",
    "3. Anaconda Installation (Optional)\n",
    "\n",
    "To run this project, you need to install the required dependencies. Use the following commands to set up your environment:\n",
    "\n",
    "1. **Create a virtual environment** (optional but recommended):\n",
    "```bash\n",
    "python -m venv env\n",
    "```\n",
    "\n",
    "2. **Install dependencies**:\n"
   ]
  },
  {
   "cell_type": "markdown",
   "id": "c0cbc113",
   "metadata": {},
   "source": [
    "## Install dependencies\n",
    "Run the following command to install all required packages:\n"
   ]
  },
  {
   "cell_type": "code",
   "execution_count": null,
   "id": "c1e509ba",
   "metadata": {
    "vscode": {
     "languageId": "shellscript"
    }
   },
   "outputs": [],
   "source": [
    "!pip install -r ../requirements.txt"
   ]
  },
  {
   "cell_type": "markdown",
   "id": "4d3f7961-9d8d-4c74-9b6f-31c761a0715e",
   "metadata": {},
   "source": [
    "# Initializing a configuration file\n",
    "\n",
    "#### This step is not necessary if you have an existing configuration file\n",
    "\n",
    "Files:\n",
    "- config_{experiment-name}.json\n",
    "\n",
    "Functionality:\n",
    "\n",
    "    - Creating the configuration file that will be used for generating the chain or performing tests.\n",
    "\n",
    "**The arguments for chain_config must match the parameters passed to the specified solution class.**\n",
    "\n",
    "In the following code, choose configuration variables for your experiment:\n"
   ]
  },
  {
   "cell_type": "code",
   "execution_count": 1,
   "id": "95201a7a-b047-4572-9c71-b34a1c62dabe",
   "metadata": {},
   "outputs": [
    {
     "name": "stdout",
     "output_type": "stream",
     "text": [
      "Configuration saved to config/config_{experiment-name}.json\n"
     ]
    }
   ],
   "source": [
    "import json\n",
    "\n",
    "# Define your configuration dictionary\n",
    "\n",
    "config = {\n",
    "    \"exe_simple_test\": False,\n",
    "    \"exe_automated_test\": True,\n",
    "    \"exe_streamlit_app\": False,\n",
    "    \"chain_config\":{\n",
    "        \"solution_class\":\"GPTPineconeSolution\",\n",
    "        \"args\":{\n",
    "            \"pinecone_index_name\":\"rulebook-small-v0\",\n",
    "            \"embed_model\":\"text-embedding-3-small\",\n",
    "            \"gen_model\":\"gpt-4o\",\n",
    "            \"search_type\": \"mmr\",\n",
    "            \"search_k\": 8,\n",
    "            \"search_lambda\": 0.25,\n",
    "            \"pinecone_key\": \"4f0dee68-2b9e-41a8-b38f-2b95f685d954\"\n",
    "        }\n",
    "    },\n",
    "    \"automated_test_config\":{\n",
    "        \"evaluators\":[\"de_contextual_recall\",\"de_faithfulness\",\"de_noise_awarness\",\"de_correctness\"],\n",
    "        \"dataset_name\":\"cbb-test-dataset-v2\",\n",
    "        \"per_q_repeat\":1,\n",
    "        \"split_data\":True,\n",
    "        \"splits\": [\"specific\"],\n",
    "        \"evaluator_model\":\"gpt-4o\",\n",
    "        \"experiment_name\": \"config_{experiment-name}\" # name your experiment\n",
    "    }\n",
    "}\n",
    "\n",
    "# Define your filename\n",
    "json_file_path = f\"config/{config['automated_test_config']['experiment_name']}.json\"\n",
    "\n",
    "# Write the configuration to a JSON file\n",
    "with open(json_file_path, 'w') as f:\n",
    "    json.dump(config, f, indent=4)\n",
    "\n",
    "print(f\"Configuration saved to {json_file_path}\")"
   ]
  },
  {
   "cell_type": "markdown",
   "id": "06387f1d-3a43-4653-8e83-67977b8c68f4",
   "metadata": {},
   "source": [
    "# Understanding the Codebase\n",
    "\n",
    "To comprehend the codebase, it's crucial to understand the key components and their roles. This section provides an overview of these components:\n",
    "\n",
    "- **Chain Configuration**: This is where we define the structure and parameters of the LangChain used for the chatbot.\n",
    "- **Solution Classes**: Classes for solution implementations  to generate a new LangChain chain based on the json configurations. New solution classes can be made to implement other vectorDBs, gen models, APIs, etc. .\n",
    "- **Testing and Evaluation**: Provides a structured way to define, prototype, and test new solution chains.\n",
    "\n",
    "Each of these components is configurable via the JSON file created in the previous step. Let's dive into how these configurations are loaded and utilized in the project.\n"
   ]
  },
  {
   "cell_type": "markdown",
   "id": "9b36e05e-d595-4f6b-8af2-b2f558e79e07",
   "metadata": {},
   "source": [
    "# Load environment configuration\n",
    "\n",
    "This section loads the environment configuration from the specified JSON file and to configure logging\n",
    "\n",
    "Files:\n",
    "- .env file\n",
    "- main.py\n",
    "- config_{experiment-name}.json\n",
    "\n",
    "For this section you will need to create a .env file and store the following keys within it : <br>\n",
    "_OPENAI_API_KEY_, _LANGCHAIN_API_KEY_, _PINECONE_API_KEY_, _INDEX_NAME_.\n",
    "\n",
    "**This code cell wil configure logging if needed:**"
   ]
  },
  {
   "cell_type": "code",
   "execution_count": 2,
   "id": "39bb2d12",
   "metadata": {},
   "outputs": [],
   "source": [
    "# configure logging\n",
    "import logging\n",
    "\n",
    "def configure_logging():\n",
    "    logging.basicConfig(\n",
    "        level=logging.INFO,\n",
    "        format=\"%(asctime)s [%(levelname)s] {%(module)s::%(funcName)s} %(message)s\",\n",
    "        handlers=[\n",
    "            logging.StreamHandler()\n",
    "        ]\n",
    "    )\n",
    "    logger = logging.getLogger(\"Prototype\")\n",
    "    return logger\n",
    "\n",
    "# Logger : \n",
    "logger = configure_logging()\n"
   ]
  },
  {
   "cell_type": "markdown",
   "id": "aa127591",
   "metadata": {},
   "source": [
    "**In the following code, we will load the configuration file:**"
   ]
  },
  {
   "cell_type": "code",
   "execution_count": 3,
   "id": "d5d06f17-18a5-4b96-94e7-77e91b8030b2",
   "metadata": {},
   "outputs": [],
   "source": [
    "import json, os\n",
    "import dotenv\n",
    "from common.utils import store_env_var, load_config\n",
    "from common.constants import CONFIG_VAR_NAME\n",
    "\n",
    "#environmental variable for path configuration file\n",
    "store_env_var(name='config_path', value=f'{json_file_path}')\n",
    "#runtime environmental variable, either 'evaluation' or 'streamlit_app'\n",
    "store_env_var(name=\"runtime\", value='evaluation') \n",
    "\n",
    "# Load environment variables\n",
    "dotenv.load_dotenv()\n",
    "\n",
    "config = load_config()\n"
   ]
  },
  {
   "cell_type": "markdown",
   "id": "112236be-72be-47eb-b87d-fc2e6787f5b8",
   "metadata": {},
   "source": [
    "# Running Streamlit App\n",
    "\n",
    "To run the Streamlit app for interactive testing and prototyping, ensure you have Streamlit installed in your environment.\n",
    "\n",
    "And to run the streamlit ensure that \"exe_streamlit_app\" is set to true and run the following command while specifying the path for your config file.\n",
    "\n",
    "This command will launch the app in your default web browser, allowing you to interact with the chatbot and test its responses in real-time.\n"
   ]
  },
  {
   "cell_type": "code",
   "execution_count": null,
   "id": "99fd12e6",
   "metadata": {
    "vscode": {
     "languageId": "shellscript"
    }
   },
   "outputs": [],
   "source": [
    "!python main.py -c config/config_{experiment-name}.json"
   ]
  },
  {
   "cell_type": "markdown",
   "id": "12e9cb14-4950-4956-8b1b-4b5c14dd40a7",
   "metadata": {},
   "source": [
    "# Chain Generation and Execution\n",
    "\n",
    "This section outlines the process of generating the LangChain using the loaded configuration. The chain is then executed to produce responses based on user queries.\n",
    "\n",
    "Let's walk through the code to generate and execute the chain:\n"
   ]
  },
  {
   "cell_type": "code",
   "execution_count": 4,
   "id": "208291c2-7c71-4af6-878e-2575a7f7f7f7",
   "metadata": {},
   "outputs": [
    {
     "name": "stderr",
     "output_type": "stream",
     "text": [
      "C:\\Users\\Zainab Ali\\AppData\\Roaming\\Python\\Python312\\site-packages\\langchain_core\\_api\\deprecation.py:139: LangChainDeprecationWarning: The class `OpenAIEmbeddings` was deprecated in LangChain 0.0.9 and will be removed in 0.3.0. An updated version of the class exists in the langchain-openai package and should be used instead. To use it run `pip install -U langchain-openai` and import as `from langchain_openai import OpenAIEmbeddings`.\n",
      "  warn_deprecated(\n",
      "C:\\Users\\Zainab Ali\\AppData\\Roaming\\Python\\Python312\\site-packages\\langchain_core\\_api\\deprecation.py:139: LangChainDeprecationWarning: The class `ChatOpenAI` was deprecated in LangChain 0.0.10 and will be removed in 0.3.0. An updated version of the class exists in the langchain-openai package and should be used instead. To use it run `pip install -U langchain-openai` and import as `from langchain_openai import ChatOpenAI`.\n",
      "  warn_deprecated(\n",
      "2024-07-23 12:05:03,298 [INFO] HTTP Request: POST https://api.openai.com/v1/embeddings \"HTTP/1.1 200 OK\"\n",
      "2024-07-23 12:05:14,576 [INFO] HTTP Request: POST https://api.openai.com/v1/chat/completions \"HTTP/1.1 200 OK\"\n"
     ]
    },
    {
     "name": "stdout",
     "output_type": "stream",
     "text": [
      "Result:\n",
      "Response: The Central Bank of Bahrain (CBB) defines a \"financial instrument\" as follows:\n",
      "\n",
      "\"A financial instrument is any contract that gives rise to both a financial asset of one entity and a financial liability or equity instrument of another entity. Financial instruments include both primary financial instruments (or cash instruments) and derivative financial instruments. A financial asset is any asset that is cash, the right to receive cash or another financial asset; or the contractual right to exchange financial assets on potentially favourable terms, or an equity instrument. A financial liability is the contractual obligation to deliver cash or another financial asset or to exchange financial liabilities under conditions that are potentially unfavourable.\" (Source: CA-8.1.3, Apr 08)\n",
      "\n",
      "Additionally, specific types of financial instruments are listed as follows:\n",
      "\n",
      "\"(a) Transferable securities;\n",
      "(b) Islamic financial instruments;\n",
      "(c) Money market instruments;\n",
      "(d) Holdings in collective investment undertakings;\n",
      "(e) Derivative contracts other than commodity derivatives;\n",
      "(f) Derivative contracts relating to commodities settled in cash;\n",
      "(g) Derivative contracts relating to commodities;\n",
      "(h) Credit derivatives;\n",
      "(i) Financial contracts for differences;\n",
      "(j) Other derivative contracts;\n",
      "(k) Interests in real estate property;\n",
      "(l) Certificates representing certain securities; and\n",
      "(m) Rights or Interests in Financial Instruments.\" (Source: Financial instruments, Amended: July 2011)\n",
      "Context: [Document(page_content='##  Financial instruments\\n\\nAny of the following instruments, as further defined in [ Volume 4\\n](/node/400001) , Section [ AU-1.5 ](/node/400371) , of the CBB Rulebook:\\n\\n(  a) Transferable securities;\\n\\n(  b) Islamic  financial instruments  ;\\n\\n(  c) Money market instruments;\\n\\n(  d)  Holdings  in  collective investment undertakings  ;\\n\\n(  e) Derivative contracts other than commodity derivatives;\\n\\n(  f) Derivative contracts relating to commodities settled in cash;\\n\\n(  g) Derivative contracts relating to commodities;\\n\\n(  h) Credit derivatives;\\n\\n(  i) Financial contracts for differences;\\n\\n(  j) Other derivative contracts;\\n\\n(  k) Interests in real estate property;\\n\\n(  l) Certificates representing certain securities; and\\n\\n(  m) Rights or Interests in Financial Instruments.\\n\\nAmended: July 2011\\n\\n', metadata={'link': 'https://cbben.thomsonreuters.com/rulebook/financial-instruments-4', 'name': 'rulebook_financial-instruments-4.md', 'path': 'Central Bank of Bahrain Volume 6—Capital Markets/Part B/Glossary of Defined Terms/[F]/Financial instruments/rulebook_financial-instruments-4.html'}), Document(page_content='##  Financial Institutions\\n\\nInstitutions defined as financial institutions by the CBB (local financial\\ninstitutions) or by foreign banking regulators (foreign financial\\ninstitutions); examples of financial institutions include investment\\ncompanies, insurance companies and currency exchange companies.\\n\\nAdded: October 2018\\n\\n', metadata={'link': 'https://cbben.thomsonreuters.com/rulebook/financial-institutions-0', 'name': 'rulebook_financial-institutions-0.md', 'path': 'Central Bank of Bahrain Volume 1—Conventional Banks/Part B/Glossary of Defined Terms/[\\xa0F\\xa0]/Financial Institutions/rulebook_financial-institutions-0.html'}), Document(page_content='##  CA-5.1.4\\n\\nA financial asset is any asset that is cash, the right to receive cash or\\nanother financial asset; or the contractual right to exchange financial assets\\non potentially favourable terms, or an equity instrument. A financial\\nliability is the contractual obligation to deliver cash or another financial\\nasset or to exchange financial liabilities under conditions that are\\npotentially unfavourable.\\n\\nJanuary 2015\\n\\n', metadata={'link': 'https://cbben.thomsonreuters.com/rulebook/ca-514-10', 'name': 'rulebook_ca-514-10.md', 'path': 'Central Bank of Bahrain Volume 2—Islamic Banks/Part A/Business Standards/CA Capital Adequacy/PART 3: Other Risks/CA-5 Market Risk/CA-5.1 Trading Book/Definition of the Trading Book and Introduction/CA-5.1.4/rulebook_ca-514-10.html'}), Document(page_content='##  Managing Financial Instruments\\n\\n  * [ LR-1.3.27 ](/rulebook/lr-1327-3)\\n  * [ LR-1.3.28 ](/rulebook/lr-1328-3)\\n\\n', metadata={'link': 'https://cbben.thomsonreuters.com/rulebook/managing-financial-instruments-2', 'name': 'rulebook_managing-financial-instruments-2.md', 'path': 'Central Bank of Bahrain Volume 1—Conventional Banks/Archived Part A/High Level Standards/LR Licensing Requirements/LR-1 Requirement to Hold a License/LR-1.3 Definition of Regulated Banking Services/Managing Financial Instruments/rulebook_managing-financial-instruments-2.html'}), Document(page_content='##  Financial services (as used in Module LR)\\n\\nFor the purpose of [ Module LR ](/node/108287) , financial services means:\\n\\n(a) Any dealings in any instrument defined as a financial instrument in any\\nVolume of the CBB Rulebook;\\n\\n(b) Any arrangement where money, goods or services are made available to a\\nperson in exchange for his promise to pay at a later date and that arrangement\\nis of a type habitually provided by another person for commercial gain;\\n\\n(c) Any arrangement in which money is solicited from the public in return for\\na promise of financial gain on, or safekeeping of, that money; or\\n\\n(d) Any product or other financial services in the area of regulated services\\n(regulated by the CBB) marketed in the Kingdom of Bahrain.\\n\\nAdded: January 2013\\n\\n', metadata={'link': 'https://cbben.thomsonreuters.com/rulebook/financial-services-used-module-lr-1', 'name': 'rulebook_financial-services-used-module-lr-1.md', 'path': 'Central Bank of Bahrain Volume 1—Conventional Banks/Part B/Glossary of Defined Terms/[\\xa0F\\xa0]/Financial services (as used in Module LR)/rulebook_financial-services-used-module-lr-1.html'}), Document(page_content='##  AU-1.5 Definition of Financial Instruments\\n\\n**For the purposes of Volume 4, a financial instrument  means any of the\\nfollowing: **\\n\\nAmended: July 2007\\n\\n', metadata={'link': 'https://cbben.thomsonreuters.com/rulebook/au-15-definition-financial-instruments', 'name': 'rulebook_au-15-definition-financial-instruments.md', 'path': 'Central Bank of Bahrain Volume 4—Investment Business/Part A/High Level Standards/AU Authorisation/AU-1 Authorisation Requirements/AU-1.5 Definition of Financial Instruments/rulebook_au-15-definition-financial-instruments.html'}), Document(page_content='Page number 71:\\n \\nCentral Bank of Bahrain \\nRulebook \\nVolume 4:  \\nInvestment Business \\n \\nAU: Authorisation                                                                                                                            July 2013 \\nSection AU-6.2: Page 2 of 2 \\n \\nMODULE \\nAU: \\nAuthorisation \\nCHAPTER \\nAU-6:  \\nLicense Fees \\n \\n \\n \\n \\nAU-6.2 \\nAnnual License Fees (continued) \\n \\nAU-6.2.9A \\nInvestment firm licensees must pay a fixed annual fee of BD 1,000 for \\neach locally incorporated SPV in Bahrain which is under the control of \\nand/or providing an actual business function, service or activity (whether \\nactively or passively) for the licensee and/or others at the licensee’s \\ndirection or having been established under the licensee’s direction for that \\npurpose. \\n \\nAU-6.2.9B \\nThe annual fee for SPVs stipulated in Paragraph AU-6.2.9A does not apply to SPVs of \\nBahrain domiciled CIUs.  In the case of Bahrain domiciled CIUs, investment firm \\nlicensees should refer to the relevant Chapter in Module ARR of Volume 7, depending \\non the classification of the Bahrain domiciled CIU. \\n \\nAU-6.2.10 \\nInvestment firm licensees must complete and submit Form ALF \\n(Annual License Fee) to the CBB, no later than 15th October of the \\npreceding year for which the fees are due. \\n \\nAU-6.2.10A \\nAll licensees are subject to direct debit for the payment of the annual \\nfee and must complete and submit to the CBB a Direct Debit \\nAuthorisation Form by 15th September available under Part B of \\nVolume 4 (Investment Business) CBB Rulebook on the CBB Website. \\n \\nAU-6.2.11 \\nFor new licensees, their first annual license fee is payable when their \\nlicense is issued by the CBB.  The amount payable is the floor amount \\nspecified for their category of license. \\n \\nAU-6.2.12 \\nFor the first full year of operation for investment firm licensees, the licensee would \\ncalculate its fee as the floor amount.  For future years, the licensee would submit a Form \\nALF by 15th October of the preceding year for which the fees are due and calculate its \\nfee using its last audited financial statements (or alternative arrangements as agreed with \\nCBB, should its first set of accounts cover an 18-month period).  \\n \\nAU-6.2.13 \\nWhere a license is cancelled (whether at the initiative of the firm or the CBB), no \\nrefund is paid for any months remaining in the calendar year in question. \\n \\nAU-6.2.14 \\nInvestment firm licensees failing to comply with this Section may be subject to \\nfinancial penalties for date sensitive requirements as outlined in Section EN-5.3A or \\nmay have their licenses withdrawn by the CBB.', metadata={'link': 'https://cbben.thomsonreuters.com/sites/default/files/net_file_store/Vol_4_AU_January_2024.pdf', 'name': 'Vol_4_AU_January_2024.txt', 'path': 'Central Bank of Bahrain Volume 4—Investment Business/Part A/Vol_4_AU_January_2024.pdf'}), Document(page_content='##  CA-8.1.3\\n\\nA financial instrument is any contract that gives rise to both a financial\\nasset of one entity and a financial liability or equity instrument of another\\nentity. Financial instruments include both primary financial instruments (or\\ncash instruments) and derivative financial instruments. A financial asset is\\nany asset that is cash, the right to receive cash or another financial asset;\\nor the contractual right to exchange financial assets on potentially\\nfavourable terms, or an equity instrument. A financial liability is the\\ncontractual obligation to deliver cash or another financial asset or to\\nexchange financial liabilities under conditions that are potentially\\nunfavourable.\\n\\nApr 08\\n\\n', metadata={'link': 'https://cbben.thomsonreuters.com/rulebook/ca-813-6', 'name': 'rulebook_ca-813-6.md', 'path': 'Central Bank of Bahrain Volume 1—Conventional Banks/Archived Part A/Business Standards/CA Capital Adequacy (April 2008)/PART 3: Other Risks/CA-8 Market Risk — Trading Book/CA-8.1 Definition of the Trading Book/CA-8.1.3/rulebook_ca-813-6.html'})]\n"
     ]
    }
   ],
   "source": [
    "from common.chain_generator import generate_chain\n",
    "\n",
    "# generate chain from config file\n",
    "solution = generate_chain(config[\"chain_config\"])\n",
    "    \n",
    "# Prompt for the chatbot\n",
    "test_input = \"What is the proper definition of 'financial instrument' according to the cbb notebook?\"\n",
    "\n",
    "# Invoke the chain to print the chatbot's message\n",
    "result = solution.invoke(test_input)\n",
    "print(\"Result:\")\n",
    "print(f\"Response: {result.response}\")\n",
    "print(f\"Context: {result.context}\")"
   ]
  },
  {
   "cell_type": "markdown",
   "id": "af75b26c-7f8c-478e-b7c3-19d50a1de46d",
   "metadata": {},
   "source": [
    "# Prototyping and Testing\n",
    "\n",
    "Prototyping and testing are essential steps to ensure the chatbot performs as expected. This section provides a framework for running tests and evaluating the chatbot's responses.\n",
    "\n",
    "To check for required dictionary keys for chain_config you can run the following code:"
   ]
  },
  {
   "cell_type": "code",
   "execution_count": 5,
   "id": "f5a0f8be",
   "metadata": {},
   "outputs": [],
   "source": [
    "import sys\n",
    "\n",
    "def check_required_test_configs(config, logger):\n",
    "    # Keys needed for the automated testing\n",
    "    required_keys = [ \"evaluators\", \"dataset_name\", \"per_q_repeat\", \"split_data\", \"splits\", \"evaluator_model\", \"experiment_name\"]\n",
    "    \n",
    "    # checking for any missing keys\n",
    "    missing_keys = [key for key in required_keys if key not in config]\n",
    "    \n",
    "    # log missing keys\n",
    "    if missing_keys:\n",
    "        logger.error(f\"Some automated test config are missing: {missing_keys}. Aborting...\")\n",
    "        sys.exit(1)\n",
    "        \n",
    "# ensuring all keys are in the config file\n",
    "check_required_test_configs(config['automated_test_config'], logger)\n"
   ]
  },
  {
   "cell_type": "markdown",
   "id": "e0daefa6",
   "metadata": {},
   "source": [
    "**The code to execute an automated test:**"
   ]
  },
  {
   "cell_type": "code",
   "execution_count": null,
   "id": "dcf65380-0f1b-4b3c-87a0-47bb2e8b25e1",
   "metadata": {},
   "outputs": [],
   "source": [
    "from common.chain_generator import generate_chain\n",
    "from evaluation.evaluators import setup_evaluators\n",
    "from evaluation.test import run_test\n",
    "from common.constants import LANGSMITH_SPLIT_TIME_BUFF\n",
    "\n",
    "# generate chain from config file\n",
    "solution = generate_chain(config[\"chain_config\"])\n",
    "\n",
    "# load automated test configuration\n",
    "config = config[\"automated_test_config\"]\n",
    "\n",
    "# build all evaluators\n",
    "available_evaluators = setup_evaluators(judge_model= config[\"evaluator_model\"])\n",
    "# map evaluators to string-names\n",
    "available_evaluators = {key.name: value for key,value in available_evaluators.items()}\n",
    "# filter for the evaluators specified in config \n",
    "evaluators = []\n",
    "for evaluator_name, evaluator_func in available_evaluators.items():\n",
    "    if evaluator_name in config[\"evaluators\"]:\n",
    "        evaluators.append(evaluator_func)\n",
    "\n",
    "# execute automated test\n",
    "run_test(solution= solution, \n",
    "        dataset_name= config[\"dataset_name\"], \n",
    "        split_data= config[\"split_data\"], \n",
    "        splits= config[\"splits\"],\n",
    "        per_q_repeat= config[\"per_q_repeat\"], \n",
    "        split_time_buff=LANGSMITH_SPLIT_TIME_BUFF,\n",
    "        evaluators= evaluators,\n",
    "        experiment_name= config[\"experiment_name\"]\n",
    "    )\n"
   ]
  },
  {
   "cell_type": "markdown",
   "id": "b1bec0b6",
   "metadata": {},
   "source": [
    "**Another option to execute an automated test (simply utilize a config dict):**"
   ]
  },
  {
   "cell_type": "code",
   "execution_count": null,
   "id": "b2f5c668",
   "metadata": {},
   "outputs": [],
   "source": [
    "\n",
    "# execute automated test\n",
    "run_test(solution= solution, \n",
    "        automated_test_config=config[\"automated_test_config\"]\n",
    "    )"
   ]
  },
  {
   "cell_type": "markdown",
   "id": "e01a1b8c-4996-4d7e-9003-3ad365d7a0ef",
   "metadata": {},
   "source": [
    "# Simple Test Evaluation\n",
    "\n",
    "Evaluating the chatbot's performance involves analyzing the responses to various test queries. This section demonstrates how to run multiple tests and collect results for evaluation.\n",
    "\n",
    "Let's set up a simple evaluation framework:\n"
   ]
  },
  {
   "cell_type": "code",
   "execution_count": 6,
   "id": "6d87e9b0-9cf5-4ebd-b11b-8f77a0cdd6a2",
   "metadata": {},
   "outputs": [
    {
     "name": "stdout",
     "output_type": "stream",
     "text": [
      "Invoking: \n"
     ]
    },
    {
     "name": "stderr",
     "output_type": "stream",
     "text": [
      "2024-07-23 12:05:36,159 [INFO] HTTP Request: POST https://api.openai.com/v1/embeddings \"HTTP/1.1 200 OK\"\n",
      "2024-07-23 12:05:51,079 [INFO] HTTP Request: POST https://api.openai.com/v1/chat/completions \"HTTP/1.1 200 OK\"\n"
     ]
    },
    {
     "name": "stdout",
     "output_type": "stream",
     "text": [
      "The Central Bank of Bahrain (CBB) defines a financial instrument as follows:\n",
      "\n",
      "1. **Volume 4 Definition:**\n",
      "   \"For the purposes of Volume 4, a financial instrument means any of the following:\n",
      "   - Transferable securities;\n",
      "   - Islamic financial instruments;\n",
      "   - Money market instruments;\n",
      "   - Holdings in collective investment undertakings;\n",
      "   - Derivative contracts other than commodity derivatives;\n",
      "   - Derivative contracts relating to commodities settled in cash;\n",
      "   - Derivative contracts relating to commodities;\n",
      "   - Credit derivatives;\n",
      "   - Financial contracts for differences;\n",
      "   - Other derivative contracts;\n",
      "   - Interests in real estate property;\n",
      "   - Certificates representing certain securities; and\n",
      "   - Rights or Interests in Financial Instruments.\" (Source: [AU-1.5 Definition of Financial Instruments](https://cbben.thomsonreuters.com/rulebook/au-15-definition-financial-instruments))\n",
      "\n",
      "2. **General Definition:**\n",
      "   \"A financial instrument is any contract that gives rise to both a financial asset of one entity and a financial liability or equity instrument of another entity. Financial instruments include both primary financial instruments (or cash instruments) and derivative financial instruments. A financial asset is any asset that is cash, the right to receive cash or another financial asset; or the contractual right to exchange financial assets on potentially favourable terms, or an equity instrument. A financial liability is the contractual obligation to deliver cash or another financial asset or to exchange financial liabilities under conditions that are potentially unfavourable.\" (Source: [CA-8.1.3](https://cbben.thomsonreuters.com/rulebook/ca-813-6))\n",
      "\n",
      "These definitions encompass a wide range of instruments, including securities, derivatives, and various financial contracts.\n",
      "Testing: \n"
     ]
    },
    {
     "name": "stderr",
     "output_type": "stream",
     "text": [
      "2024-07-23 12:05:51,610 [INFO] HTTP Request: POST https://api.openai.com/v1/embeddings \"HTTP/1.1 200 OK\"\n",
      "2024-07-23 12:05:57,825 [INFO] HTTP Request: POST https://api.openai.com/v1/chat/completions \"HTTP/1.1 200 OK\"\n"
     ]
    },
    {
     "name": "stdout",
     "output_type": "stream",
     "text": [
      "{'answer': 'The definition of a \"financial instrument\" according to the Central Bank of Bahrain (CBB) rulebook is as follows:\\n\\n\"For the purposes of Volume 4, a financial instrument means any of the following:\\n\\n(a) Transferable securities;\\n(b) Islamic financial instruments;\\n(c) Money market instruments;\\n(d) Holdings in collective investment undertakings;\\n(e) Derivative contracts other than commodity derivatives;\\n(f) Derivative contracts relating to commodities settled in cash;\\n(g) Derivative contracts relating to commodities;\\n(h) Credit derivatives;\\n(i) Financial contracts for differences;\\n(j) Other derivative contracts;\\n(k) Interests in real estate property;\\n(l) Certificates representing certain securities; and\\n(m) Rights or Interests in Financial Instruments.\"\\n\\n(Referenced from: AU-1.5 Definition of Financial Instruments, [link](https://cbben.thomsonreuters.com/rulebook/au-15-definition-financial-instruments))\\n\\nAdditionally, another definition provided in the rulebook states:\\n\"A financial instrument is any contract that gives rise to both a financial asset of one entity and a financial liability or equity instrument of another entity. Financial instruments include both primary financial instruments (or cash instruments) and derivative financial instruments.\"\\n\\n(Referenced from: CA-8.1.3, [link](https://cbben.thomsonreuters.com/rulebook/ca-813-6))', 'context': ['##  Financial instruments\\n\\nAny of the following instruments, as further defined in [ Volume 4\\n](/node/400001) , Section [ AU-1.5 ](/node/400371) , of the CBB Rulebook:\\n\\n(  a) Transferable securities;\\n\\n(  b) Islamic  financial instruments  ;\\n\\n(  c) Money market instruments;\\n\\n(  d)  Holdings  in  collective investment undertakings  ;\\n\\n(  e) Derivative contracts other than commodity derivatives;\\n\\n(  f) Derivative contracts relating to commodities settled in cash;\\n\\n(  g) Derivative contracts relating to commodities;\\n\\n(  h) Credit derivatives;\\n\\n(  i) Financial contracts for differences;\\n\\n(  j) Other derivative contracts;\\n\\n(  k) Interests in real estate property;\\n\\n(  l) Certificates representing certain securities; and\\n\\n(  m) Rights or Interests in Financial Instruments.\\n\\nAmended: July 2011\\n\\n', '##  Financial Institutions\\n\\nInstitutions defined as financial institutions by the CBB (local financial\\ninstitutions) or by foreign banking regulators (foreign financial\\ninstitutions); examples of financial institutions include investment\\ncompanies, insurance companies and currency exchange companies.\\n\\nAdded: October 2018\\n\\n', '##  CA-5.1.4\\n\\nA financial asset is any asset that is cash, the right to receive cash or\\nanother financial asset; or the contractual right to exchange financial assets\\non potentially favourable terms, or an equity instrument. A financial\\nliability is the contractual obligation to deliver cash or another financial\\nasset or to exchange financial liabilities under conditions that are\\npotentially unfavourable.\\n\\nJanuary 2015\\n\\n', '##  Managing Financial Instruments\\n\\n  * [ LR-1.3.27 ](/rulebook/lr-1327-3)\\n  * [ LR-1.3.28 ](/rulebook/lr-1328-3)\\n\\n', '##  Financial services (as used in Module LR)\\n\\nFor the purpose of [ Module LR ](/node/108287) , financial services means:\\n\\n(a) Any dealings in any instrument defined as a financial instrument in any\\nVolume of the CBB Rulebook;\\n\\n(b) Any arrangement where money, goods or services are made available to a\\nperson in exchange for his promise to pay at a later date and that arrangement\\nis of a type habitually provided by another person for commercial gain;\\n\\n(c) Any arrangement in which money is solicited from the public in return for\\na promise of financial gain on, or safekeeping of, that money; or\\n\\n(d) Any product or other financial services in the area of regulated services\\n(regulated by the CBB) marketed in the Kingdom of Bahrain.\\n\\nAdded: January 2013\\n\\n', '##  AU-1.5 Definition of Financial Instruments\\n\\n**For the purposes of Volume 4, a financial instrument  means any of the\\nfollowing: **\\n\\nAmended: July 2007\\n\\n', 'Page number 71:\\n \\nCentral Bank of Bahrain \\nRulebook \\nVolume 4:  \\nInvestment Business \\n \\nAU: Authorisation                                                                                                                            July 2013 \\nSection AU-6.2: Page 2 of 2 \\n \\nMODULE \\nAU: \\nAuthorisation \\nCHAPTER \\nAU-6:  \\nLicense Fees \\n \\n \\n \\n \\nAU-6.2 \\nAnnual License Fees (continued) \\n \\nAU-6.2.9A \\nInvestment firm licensees must pay a fixed annual fee of BD 1,000 for \\neach locally incorporated SPV in Bahrain which is under the control of \\nand/or providing an actual business function, service or activity (whether \\nactively or passively) for the licensee and/or others at the licensee’s \\ndirection or having been established under the licensee’s direction for that \\npurpose. \\n \\nAU-6.2.9B \\nThe annual fee for SPVs stipulated in Paragraph AU-6.2.9A does not apply to SPVs of \\nBahrain domiciled CIUs.  In the case of Bahrain domiciled CIUs, investment firm \\nlicensees should refer to the relevant Chapter in Module ARR of Volume 7, depending \\non the classification of the Bahrain domiciled CIU. \\n \\nAU-6.2.10 \\nInvestment firm licensees must complete and submit Form ALF \\n(Annual License Fee) to the CBB, no later than 15th October of the \\npreceding year for which the fees are due. \\n \\nAU-6.2.10A \\nAll licensees are subject to direct debit for the payment of the annual \\nfee and must complete and submit to the CBB a Direct Debit \\nAuthorisation Form by 15th September available under Part B of \\nVolume 4 (Investment Business) CBB Rulebook on the CBB Website. \\n \\nAU-6.2.11 \\nFor new licensees, their first annual license fee is payable when their \\nlicense is issued by the CBB.  The amount payable is the floor amount \\nspecified for their category of license. \\n \\nAU-6.2.12 \\nFor the first full year of operation for investment firm licensees, the licensee would \\ncalculate its fee as the floor amount.  For future years, the licensee would submit a Form \\nALF by 15th October of the preceding year for which the fees are due and calculate its \\nfee using its last audited financial statements (or alternative arrangements as agreed with \\nCBB, should its first set of accounts cover an 18-month period).  \\n \\nAU-6.2.13 \\nWhere a license is cancelled (whether at the initiative of the firm or the CBB), no \\nrefund is paid for any months remaining in the calendar year in question. \\n \\nAU-6.2.14 \\nInvestment firm licensees failing to comply with this Section may be subject to \\nfinancial penalties for date sensitive requirements as outlined in Section EN-5.3A or \\nmay have their licenses withdrawn by the CBB.', '##  CA-8.1.3\\n\\nA financial instrument is any contract that gives rise to both a financial\\nasset of one entity and a financial liability or equity instrument of another\\nentity. Financial instruments include both primary financial instruments (or\\ncash instruments) and derivative financial instruments. A financial asset is\\nany asset that is cash, the right to receive cash or another financial asset;\\nor the contractual right to exchange financial assets on potentially\\nfavourable terms, or an equity instrument. A financial liability is the\\ncontractual obligation to deliver cash or another financial asset or to\\nexchange financial liabilities under conditions that are potentially\\nunfavourable.\\n\\nApr 08\\n\\n']}\n"
     ]
    }
   ],
   "source": [
    "from common.chain_generator import generate_chain\n",
    "# generate chain from config file\n",
    "solution = generate_chain(config[\"chain_config\"])\n",
    "\n",
    "# ask chain a simple question\n",
    "print(\"Invoking: \")\n",
    "result = solution.invoke(\"What is the proper definition of 'financial instrument' according to the cbb notebook?\")\n",
    "print(result.response)\n",
    "\n",
    "# using the 'test' function\n",
    "inputs = {'question': 'What is the proper definition of \\'financial instrument\\' according to the cbb notebook?'}\n",
    "print(\"Testing: \")\n",
    "result_test = solution.test(inputs)\n",
    "print(result_test)\n",
    "     "
   ]
  }
 ],
 "metadata": {
  "kernelspec": {
   "display_name": "Python 3 (ipykernel)",
   "language": "python",
   "name": "python3"
  },
  "language_info": {
   "codemirror_mode": {
    "name": "ipython",
    "version": 3
   },
   "file_extension": ".py",
   "mimetype": "text/x-python",
   "name": "python",
   "nbconvert_exporter": "python",
   "pygments_lexer": "ipython3",
   "version": "3.12.4"
  }
 },
 "nbformat": 4,
 "nbformat_minor": 5
}
